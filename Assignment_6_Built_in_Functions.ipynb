{
  "nbformat": 4,
  "nbformat_minor": 0,
  "metadata": {
    "colab": {
      "provenance": []
    },
    "kernelspec": {
      "name": "python3",
      "display_name": "Python 3"
    },
    "language_info": {
      "name": "python"
    }
  },
  "cells": [
    {
      "cell_type": "markdown",
      "source": [
        "**def describe_stats**"
      ],
      "metadata": {
        "id": "KUWsAwvQuwXY"
      }
    },
    {
      "cell_type": "code",
      "source": [
        "# this is the library to use the built in functions for the descriptive statistics calculations\n",
        "import statistics\n",
        "\n",
        "def describe_stats():\n",
        "    while True:\n",
        "\n",
        "        upper_limit = int(input(\"Enter the upper limit: \"))\n",
        "        lower_limit = int(input(\"Enter the lower limit: \"))\n",
        "        step_size = int(input(\"Enter the step size: \"))\n",
        "\n",
        "        # to find the total range for the calculations:\n",
        "        range_values = range(lower_limit, upper_limit + 1, step_size) # add one to the upper limit because its exclusive\n",
        "\n",
        "        # preforming the calculations:\n",
        "        median_value = statistics.median(range_values)\n",
        "        mean_value = statistics.mean(range_values)\n",
        "        range_value = abs(upper_limit - lower_limit)\n",
        "\n",
        "        print(\"Median:\", median_value)\n",
        "        print(\"Mean:\", mean_value)\n",
        "        print(\"Range:\", range_value)\n",
        "\n",
        "        run_stats_again = input(\"run again?: \")\n",
        "        if run_stats_again != 'y':\n",
        "            break"
      ],
      "metadata": {
        "id": "DI5QfQ5TuqL4"
      },
      "execution_count": 4,
      "outputs": []
    },
    {
      "cell_type": "markdown",
      "source": [
        "**def cipher**"
      ],
      "metadata": {
        "id": "qktfXI9su1lP"
      }
    },
    {
      "cell_type": "code",
      "source": [
        "# numbers : 57 73 73 64 26 -108 79 -99 71 26 73 72 26 81 73 79 76 26 -109 69 64 78 65 76 -109 27\n",
        "\n",
        "# INSTRUCTIONS: his cipher uses a combination of ascii, decimal, and octal values.\n",
        "# The values would be written in decimal values, which would then need to be transformed to octal values, before being translated into ascii characters.\n",
        "# Unless, that value can’t be written in octal value, then it will listed as a negative decimal value. Write a program that takes a string of numbers as input and will return the\n",
        "# translated message.\n",
        "\n",
        "#1. convert to octal\n",
        "#2. convert to ASCII\n",
        "# IF NUMBER IS NEGATIVE THEN CONVERT TO POSITIVE ????????????"
      ],
      "metadata": {
        "id": "02bPZaEiut3L"
      },
      "execution_count": 73,
      "outputs": []
    },
    {
      "cell_type": "code",
      "source": [
        "# this user defined function specificaly uses the 'decimal_values' to decipher the message.\n",
        "def decipher():\n",
        "    # first you have to innitialize to empty (OR ELSE IT WON\"T WORK.)\n",
        "    message = ''\n",
        "    # these are the innitial values (in decimal)\n",
        "    decimal_values = [57, 73, 73, 64, 26, -108, 79, -99, 71, 26, 73, 72, 26, 81, 73, 79, 76, 26, -109, 69, 64, 78, 65, 76, -109, 27]\n",
        "\n",
        "    # then i will get rid of any negative values and make them positive to convert\n",
        "    positive_values = []\n",
        "    for val in decimal_values:  # for a vlue in the given decimal values ...\n",
        "        positive_values.append(abs(val))  # use abs to convert to positive if negative and then store in filtered values using .append\n",
        "\n",
        "    # for i in the given values .....\n",
        "    for decimal in decimal_values:\n",
        "        if decimal >= 0: # make sure the number is positive\n",
        "            octal_str = oct(decimal)[2:] # convert decimal to octal string (ensure correct range and get rid of 'Oo' in octal value?) it didn't run correctly before\n",
        "            ascii_char = chr(int(octal_str)) # convert octal string for each value to ASCII character, it should be an int i think\n",
        "            message += ascii_char # add to the message\n",
        "    # print the deciphered message\n",
        "    return message\n",
        "    print(message)\n",
        "  # i dont think this is the correct message, im assuming im doing something wrong with the negative value handling, but i'm not sure."
      ],
      "metadata": {
        "id": "ArhHiSWp_Jnj"
      },
      "execution_count": 126,
      "outputs": []
    },
    {
      "cell_type": "markdown",
      "source": [
        "**MAIN**"
      ],
      "metadata": {
        "id": "aE5EqSJ4GFMY"
      }
    },
    {
      "cell_type": "code",
      "source": [
        "while True:\n",
        "  # for user to chose the program\n",
        "  program_choice = input(\"Enter the program you would like to run: ('s' for statistics or 'd' for decipher: )\")\n",
        "\n",
        "  # in case user enters an invalid program choice\n",
        "  if program_choice != 's' and program_choice != 'd':\n",
        "    print(\"Invalid choice. Please try again. \")\n",
        "    continue\n",
        "\n",
        "  # For descriptive statistics\n",
        "  elif program_choice == 's':\n",
        "    describe_stats()\n",
        "\n",
        "  # for cipher translator\n",
        "  elif program_choice == 'd':\n",
        "    deciphered_message = decipher()\n",
        "    print(deciphered_message)\n",
        "    print(\"I think the message is supposed to say 'good luck on your interview'.\\n\")\n",
        "\n",
        "  # in case user enters an invalid choice\n",
        "  else:\n",
        "    print(\"invalid choice. Please try again. /n\")\n",
        "    continue\n",
        "\n",
        "# run program again (while loop)\n",
        "  run_program_again = input(\"Would you like to run the program again? ('y' for yes, 'stop' to exit): \")\n",
        "  if run_program_again != 'y':\n",
        "    break"
      ],
      "metadata": {
        "colab": {
          "base_uri": "https://localhost:8080/"
        },
        "id": "mKpTVQnfGF55",
        "outputId": "c0ea968c-5f64-469d-ba3c-bf74d7108e18"
      },
      "execution_count": 117,
      "outputs": [
        {
          "name": "stdout",
          "output_type": "stream",
          "text": [
            "Enter the program you would like to run: ('s' for statistics or 'd' for decipher: )d\n",
            "Good uk on your idter!\n",
            "I think the message is supposed to say 'good luck on your interview'.\n",
            "\n",
            "Would you like to run the program again? ('y' for yes, 'stop' to exit): stop\n"
          ]
        }
      ]
    }
  ]
}